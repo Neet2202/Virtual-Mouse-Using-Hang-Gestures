{
 "cells": [
  {
   "cell_type": "code",
   "execution_count": 1,
   "id": "cordless-monthly",
   "metadata": {},
   "outputs": [],
   "source": [
    "import cv2\n",
    "import numpy as np"
   ]
  },
  {
   "cell_type": "code",
   "execution_count": 2,
   "id": "olive-singer",
   "metadata": {},
   "outputs": [],
   "source": [
    "cap= cv2.VideoCapture(0)"
   ]
  },
  {
   "cell_type": "code",
   "execution_count": 3,
   "id": "composite-uniform",
   "metadata": {},
   "outputs": [],
   "source": [
    "import cv2\n",
    "cap = cv2.VideoCapture(0)\n",
    "while(1):\n",
    "    \n",
    "     # Capture frame-by-frame\n",
    "    _, frameinv = cap.read()\n",
    "\n",
    "    # flip horizontaly to get mirror image in camera\n",
    "    frame = cv2.flip( frameinv, 1)\n",
    "  \n",
    "     # Our operations on the frame come here\n",
    "    hsv = cv2.cvtColor( frame, cv2.COLOR_BGR2HSV)\n",
    "\t\n",
    "     # Display the resulting frame\n",
    "    cv2.imshow('Frame', hsv)\n",
    " \n",
    "    k = cv2.waitKey(10) & 0xFF\n",
    "    if k == 27:\n",
    "        break\n",
    "cap.release()\n",
    "cv2.destroyAllWindows()"
   ]
  },
  {
   "cell_type": "code",
   "execution_count": null,
   "id": "necessary-shelter",
   "metadata": {},
   "outputs": [],
   "source": [
    "# #*\n",
    "# while(1):\n",
    "    \n",
    "#      # Capture frame\n",
    "#     _, frameinv = cap.read()\n",
    "\n",
    "#     frame = cv2.flip( frameinv, 1)\n",
    "  \n",
    "#     hsv = cv2.cvtColor( frame, cv2.COLOR_BGR2HSV)\n",
    "\n",
    "#      #resulting frame\n",
    "#     cv2.imshow('Frame',b_mask)\n",
    " \n",
    "#     k = cv2.waitKey(10) & 0xFF\n",
    "#     if k == 27:\n",
    "#         break\n",
    "        \n",
    "# cap.release()\n",
    "# cv2.destroyAllWindows()"
   ]
  },
  {
   "cell_type": "code",
   "execution_count": null,
   "id": "western-nickel",
   "metadata": {},
   "outputs": [],
   "source": [
    "#create window\n",
    "window= np.ones((7,7),np.uint8)\n"
   ]
  },
  {
   "cell_type": "code",
   "execution_count": null,
   "id": "affected-deadline",
   "metadata": {},
   "outputs": [],
   "source": [
    "#specify color ranges\n",
    "blue_range = np.array([[88,78,20],[128,255,255]])\n",
    "yellow_range = np.array([[21,70,80],[61,255,255]])\n",
    "red_range = np.array([[158,85,72],[180 ,255,255]])\n"
   ]
  },
  {
   "cell_type": "code",
   "execution_count": null,
   "id": "personalized-appraisal",
   "metadata": {},
   "outputs": [],
   "source": [
    "#Remove noise\n",
    "#filter out a particular color from the frame\n",
    "def makeMask(hsv_frame, color_Range):\n",
    "    \n",
    "    mask = cv2.inRange( hsv_frame, color_Range[0], color_Range[1])\n",
    "\n",
    "    eroded = cv2.erode( mask,window, iterations=1)\n",
    "    \n",
    "    dilated = cv2.dilate( eroded,window, iterations=1)\n",
    "    \n",
    "    return mask\n",
    "\n"
   ]
  },
  {
   "cell_type": "code",
   "execution_count": null,
   "id": "institutional-thompson",
   "metadata": {},
   "outputs": [],
   "source": [
    "#sample image\n",
    "frameinv=cv2.imread(\"sample.JPEG\")\n",
    "\n",
    "frame = cv2.flip( frameinv, 1)\n",
    "hsv = cv2.cvtColor( frame, cv2.COLOR_BGR2HSV)\n",
    "\n",
    "\n",
    "b_mask=makeMask(hsv,blue_range)\n",
    "\n",
    "cv2.imshow(\"Frame\",b_mask) #abstract blue one\n",
    "\n",
    "cv2.waitKey(0)\n",
    "cv2.destroyAllWindows() "
   ]
  },
  {
   "cell_type": "code",
   "execution_count": null,
   "id": "mental-saver",
   "metadata": {},
   "outputs": [],
   "source": [
    "#blue area\n",
    "b_area=[100,1700]"
   ]
  },
  {
   "cell_type": "code",
   "execution_count": null,
   "id": "seventh-technology",
   "metadata": {},
   "outputs": [],
   "source": [
    "#swap valuea\n",
    "def swap(array,i,j):\n",
    "    temp=array[i]\n",
    "    array[i]=array[j]\n",
    "    array[j]=temp"
   ]
  },
  {
   "cell_type": "code",
   "execution_count": null,
   "id": "everyday-camera",
   "metadata": {},
   "outputs": [],
   "source": [
    "contour, _ = cv2.findContours( b_mask, cv2.RETR_TREE, cv2.CHAIN_APPROX_SIMPLE)\n",
    "l=len(contour)\n",
    "area = np.zeros(l)\n",
    "#filtering contours\n",
    "for i in range(l):\n",
    "    if cv2.contourArea(contour[i])>b_area[0] and cv2.contourArea(contour[i])<b_area[1]:\n",
    "                \n",
    "        area[i] = cv2.contourArea(contour[i])\n",
    "    else:\n",
    "        area[i] = 0\n",
    "a = sorted( area, reverse=True)\n",
    "#contours with largest valid area       \n",
    "for i in range(l):\n",
    "    for j in range(1):\n",
    "        if area[i] == a[j]:\n",
    "            swap( contour, i, j)\n",
    "\n"
   ]
  },
  {
   "cell_type": "code",
   "execution_count": null,
   "id": "younger-crest",
   "metadata": {},
   "outputs": [],
   "source": [
    "if l > 0 :\n",
    "# finding centroid \n",
    "\n",
    "                M = cv2.moments(contour[0])\n",
    "                if M['m00'] != 0:\n",
    "            \n",
    "                        cx = int(M['m10']/M['m00'])\n",
    "                        cy = int(M['m01']/M['m00'])\n",
    "                        center = (cx,cy)\n",
    "                        \n",
    "                        if True:\n",
    "                                cv2.circle( frame, center, 5, (0,0,255), -1) #create dot\n",
    "                                \n",
    "                        cv2.imshow('image',frame)\n",
    "                        cv2.waitKey(0)"
   ]
  },
  {
   "cell_type": "code",
   "execution_count": null,
   "id": "greenhouse-legislation",
   "metadata": {},
   "outputs": [],
   "source": [
    "cx"
   ]
  },
  {
   "cell_type": "code",
   "execution_count": null,
   "id": "original-ticket",
   "metadata": {},
   "outputs": [],
   "source": [
    "cy"
   ]
  },
  {
   "cell_type": "code",
   "execution_count": null,
   "id": "exotic-minority",
   "metadata": {},
   "outputs": [],
   "source": [
    "center=(cx,cy)"
   ]
  },
  {
   "cell_type": "code",
   "execution_count": null,
   "id": "deluxe-makeup",
   "metadata": {},
   "outputs": [],
   "source": [
    "center"
   ]
  },
  {
   "cell_type": "code",
   "execution_count": null,
   "id": "comprehensive-physics",
   "metadata": {},
   "outputs": [],
   "source": [
    "cv2.circle( frame, center, 5, (0,0,255), -1)"
   ]
  },
  {
   "cell_type": "code",
   "execution_count": null,
   "id": "hired-pacific",
   "metadata": {},
   "outputs": [],
   "source": []
  },
  {
   "cell_type": "code",
   "execution_count": null,
   "id": "affiliated-mountain",
   "metadata": {},
   "outputs": [],
   "source": []
  }
 ],
 "metadata": {
  "kernelspec": {
   "display_name": "Python 3",
   "language": "python",
   "name": "python3"
  },
  "language_info": {
   "codemirror_mode": {
    "name": "ipython",
    "version": 3
   },
   "file_extension": ".py",
   "mimetype": "text/x-python",
   "name": "python",
   "nbconvert_exporter": "python",
   "pygments_lexer": "ipython3",
   "version": "3.9.2"
  }
 },
 "nbformat": 4,
 "nbformat_minor": 5
}
