{
 "cells": [
  {
   "cell_type": "code",
   "execution_count": 1,
   "id": "lovely-newsletter",
   "metadata": {},
   "outputs": [],
   "source": [
    "import pyautogui"
   ]
  },
  {
   "cell_type": "code",
   "execution_count": 2,
   "id": "revised-madrid",
   "metadata": {},
   "outputs": [],
   "source": [
    " def Action(yp, rc, bc):\n",
    "        out = np.array(['move', 'false'])\n",
    "        if rc[0]!=-1 and bc[0]!=-1:\n",
    "                if distance(yp,rc)<50 and distance(yp,bc)<50 and distance(rc,bc)<50 :\n",
    "                        out[0] = 'drag'\n",
    "                        out[1] = 'true'\n",
    "                        return out\n",
    "                elif distance(rc,bc)<40: \n",
    "                        out[0] = 'left'\n",
    "                        return out\n",
    "                elif distance(yp,rc)<40:\n",
    "                        out[0] = 'right'\n",
    "                        return out\n",
    "                elif distance(yp,rc)>40 and rc[1]-bc[1]>120:\n",
    "                        out[0] = 'down'\n",
    "                        return out\n",
    "                elif bc[1]-rc[1]>110:\n",
    "                        out[0] = 'up'\n",
    "                        return out\n",
    "                else:\n",
    "                        return out\n",
    "        else:\n",
    "                out[0] = -1\n",
    "                return out "
   ]
  },
  {
   "cell_type": "code",
   "execution_count": 3,
   "id": "cross-kruger",
   "metadata": {},
   "outputs": [],
   "source": [
    "def performAction( yp, rc, bc, action, drag, perform):\n",
    "        if perform:\n",
    "                cursor[0] = 4*(yp[0]-110)\n",
    "                cursor[1] = 4*(yp[1]-120)\n",
    "                if action == 'move':\n",
    "                        if yp[0]>110 and yp[0]<590 and yp[1]>120 and yp[1]<390:\n",
    "                                pyautogui.moveTo(cursor[0],cursor[1])\n",
    "                        elif yp[0]<110 and yp[1]>120 and yp[1]<390:\n",
    "                                pyautogui.moveTo( 8 , cursor[1])\n",
    "                        elif yp[0]>590 and yp[1]>120 and yp[1]<390:\n",
    "                                pyautogui.moveTo(1912, cursor[1])\n",
    "                        elif yp[0]>110 and yp[0]<590 and yp[1]<120:\n",
    "                                pyautogui.moveTo(cursor[0] , 8)\n",
    "                        elif yp[0]>110 and yp[0]<590 and yp[1]>390:\n",
    "                                pyautogui.moveTo(cursor[0] , 1072)\n",
    "                        elif yp[0]<110 and yp[1]<120:\n",
    "                                pyautogui.moveTo(8, 8)"
   ]
  },
  {
   "cell_type": "code",
   "execution_count": null,
   "id": "effective-seafood",
   "metadata": {},
   "outputs": [],
   "source": []
  }
 ],
 "metadata": {
  "kernelspec": {
   "display_name": "Python 3",
   "language": "python",
   "name": "python3"
  },
  "language_info": {
   "codemirror_mode": {
    "name": "ipython",
    "version": 3
   },
   "file_extension": ".py",
   "mimetype": "text/x-python",
   "name": "python",
   "nbconvert_exporter": "python",
   "pygments_lexer": "ipython3",
   "version": "3.7.9"
  }
 },
 "nbformat": 4,
 "nbformat_minor": 5
}
